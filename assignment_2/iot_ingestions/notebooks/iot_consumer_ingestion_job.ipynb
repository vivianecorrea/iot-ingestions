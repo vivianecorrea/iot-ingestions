{
 "cells": [
  {
   "cell_type": "code",
   "execution_count": 0,
   "metadata": {
    "application/vnd.databricks.v1+cell": {
     "cellMetadata": {
      "byteLimit": 2048000,
      "rowLimit": 10000
     },
     "inputWidgets": {},
     "nuid": "5edf6bb2-d993-4407-ab1f-5a47acc9a2a2",
     "showTitle": true,
     "tableResultSettingsMap": {},
     "title": "Constants"
    }
   },
   "outputs": [],
   "source": [
    "SECRET_SCOPE = \"IOT_CHALLENGE_SCOPE\"\n",
    "config_dict = {\"API_KEY\": dbutils.secrets.get(SECRET_SCOPE, \"API_KEY\"), \n",
    " \"API_SECRET\":dbutils.secrets.get(SECRET_SCOPE, \"API_SECRET\"), \n",
    " \"BOOTSTRAP\": dbutils.secrets.get(SECRET_SCOPE,  \"BOOTSTRAP\"),  \n",
    " \"TOPIC\": \"IOT_SENSORS_TOPIC\"\n",
    "}\n",
    "CATALOG = \"sandbox_first_catalog\"\n",
    "SCHEMA = \"iot_sensors\"\n",
    "LANDING_TABLE = f\"{CATALOG}.{SCHEMA}.iot_messages_landing\"\n",
    "BRONZE_TABLE = f\"{CATALOG}.{SCHEMA}.iot_messages_bronze\"\n",
    "SILVER_TABLE = f\"{CATALOG}.{SCHEMA}.iot_messages_silver\"\n",
    "CHECKPOINT_LANDING = \"/tmp/chk_landing\"\n",
    "CHECKPOINT_BRONZE = \"/tmp/chk_bronze\"\n",
    "CHECKPOINT_SILVER = \"/tmp/chk_silver\""
   ]
  },
  {
   "cell_type": "code",
   "execution_count": 0,
   "metadata": {
    "application/vnd.databricks.v1+cell": {
     "cellMetadata": {
      "byteLimit": 2048000,
      "rowLimit": 10000
     },
     "inputWidgets": {},
     "nuid": "1601d67d-8914-4360-bc25-ec745049792f",
     "showTitle": true,
     "tableResultSettingsMap": {},
     "title": "Imports"
    }
   },
   "outputs": [],
   "source": [
    "from pyspark.sql.functions import from_json, col\n",
    "from pyspark.sql.types import StructType, StructField, StringType, DoubleType"
   ]
  },
  {
   "cell_type": "code",
   "execution_count": 0,
   "metadata": {
    "application/vnd.databricks.v1+cell": {
     "cellMetadata": {
      "byteLimit": 2048000,
      "rowLimit": 10000
     },
     "inputWidgets": {},
     "nuid": "34a27996-92af-4216-8960-ae8888a5b248",
     "showTitle": true,
     "tableResultSettingsMap": {},
     "title": "Landing"
    }
   },
   "outputs": [],
   "source": [
    "landing_df = (\n",
    "    spark.readStream\n",
    "        .format(\"kafka\")\n",
    "        .option(\"kafka.bootstrap.servers\", config_dict.get(\"BOOTSTRAP\"))\n",
    "        .option(\"subscribe\", config_dict.get(\"TOPIC\"))\n",
    "        .option(\"startingOffsets\", \"earliest\")\n",
    "        .option(\"kafka.sasl.mechanism\", \"PLAIN\")\n",
    "        .option(\"kafka.sasl.jaas.config\",\n",
    "                f'org.apache.kafka.common.security.plain.PlainLoginModule required username=\"{config_dict.get(\"API_KEY\")}\" password=\"{config_dict.get(\"API_SECRET\")}\";')\n",
    "        .option(\"kafka.security.protocol\", \"SASL_SSL\")\n",
    "        .option(\"kafka.ssl.endpoint.identification.algorithm\", \"https\")\n",
    "        .load()\n",
    ")\n",
    "\n",
    "landing_df.writeStream \\\n",
    "    .format(\"delta\") \\\n",
    "    .trigger(availableNow=True)\\\n",
    "    .option(\"checkpointLocation\", CHECKPOINT_LANDING) \\\n",
    "    .toTable(LANDING_TABLE)"
   ]
  },
  {
   "cell_type": "code",
   "execution_count": 0,
   "metadata": {
    "application/vnd.databricks.v1+cell": {
     "cellMetadata": {
      "byteLimit": 2048000,
      "rowLimit": 10000
     },
     "inputWidgets": {},
     "nuid": "30ef44f4-19f3-42bc-9cbe-8b6d63b5f32f",
     "showTitle": true,
     "tableResultSettingsMap": {},
     "title": "Bronze"
    }
   },
   "outputs": [],
   "source": [
    "bronze_df = (\n",
    "    spark.readStream\n",
    "        .format(\"delta\")\n",
    "        .option(\"readChangeData\", \"false\")\n",
    "        .table(LANDING_TABLE)\n",
    ")\n",
    "bronze_df.writeStream \\\n",
    "    .format(\"delta\") \\\n",
    "    .trigger(availableNow=True)\\\n",
    "    .option(\"checkpointLocation\", CHECKPOINT_BRONZE) \\\n",
    "    .toTable(BRONZE_TABLE)"
   ]
  },
  {
   "cell_type": "code",
   "execution_count": 0,
   "metadata": {
    "application/vnd.databricks.v1+cell": {
     "cellMetadata": {
      "byteLimit": 2048000,
      "rowLimit": 10000
     },
     "inputWidgets": {},
     "nuid": "35ad7e34-c84c-43b6-bd47-b781b808f2e8",
     "showTitle": true,
     "tableResultSettingsMap": {},
     "title": "Silver"
    }
   },
   "outputs": [],
   "source": [
    "value_schema = StructType([\n",
    "    StructField(\"sensor_id\", StringType(), True),\n",
    "    StructField(\"device_id\", StringType(), True),\n",
    "    StructField(\"location\", StringType(), True),\n",
    "    StructField(\"ts\", StringType(), True),\n",
    "    StructField(\"temperature\", DoubleType(), True),\n",
    "    StructField(\"humidity\", DoubleType(), True),\n",
    "    StructField(\"lat\", DoubleType(), True),\n",
    "    StructField(\"lon\", DoubleType(), True)\n",
    "])\n",
    "silver_df = (\n",
    "    spark.readStream\n",
    "        .format(\"delta\")\n",
    "        .option(\"readChangeData\", \"false\")\n",
    "        .table(BRONZE_TABLE)\n",
    "        .withColumn(\"value_struct\", from_json(col(\"value\").cast(\"string\"), value_schema))\n",
    "        .select(\n",
    "            \"key\",\n",
    "            \"topic\", \"partition\", \"offset\", \"timestamp\", \"timestampType\",\n",
    "            \"value_struct.*\"\n",
    "        )\n",
    ")\n",
    "\n",
    "silver_df.writeStream \\\n",
    "    .format(\"delta\") \\\n",
    "    .option(\"checkpointLocation\", CHECKPOINT_SILVER) \\\n",
    "    .toTable(SILVER_TABLE)"
   ]
  }
 ],
 "metadata": {
  "application/vnd.databricks.v1+notebook": {
   "computePreferences": null,
   "dashboards": [],
   "environmentMetadata": {
    "base_environment": "",
    "environment_version": "2"
   },
   "inputWidgetPreferences": null,
   "language": "python",
   "notebookMetadata": {
    "pythonIndentUnit": 4
   },
   "notebookName": "Consumer",
   "widgets": {}
  },
  "language_info": {
   "name": "python"
  }
 },
 "nbformat": 4,
 "nbformat_minor": 0
}
